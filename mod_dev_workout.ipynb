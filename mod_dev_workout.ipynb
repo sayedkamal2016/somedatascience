{
 "cells": [
  {
   "cell_type": "markdown",
   "metadata": {},
   "source": [
    "# Regression "
   ]
  },
  {
   "cell_type": "markdown",
   "metadata": {},
   "source": [
    "### our taregt here is to predict the HARDSHIP_INDEX of any community, but to chose predictors from a set of columns in a data set, we do either pearson coefficient or ANOVA test, then analyze the p_value or/and f test score , but note that ANOVA test requires a categorical predictor"
   ]
  },
  {
   "cell_type": "code",
   "execution_count": 19,
   "metadata": {},
   "outputs": [],
   "source": [
    "import pandas as pd\n",
    "import numpy as np\n",
    "import matplotlib.pyplot as plt"
   ]
  },
  {
   "cell_type": "code",
   "execution_count": 38,
   "metadata": {},
   "outputs": [
    {
     "data": {
      "text/plain": [
       "Index(['COMMUNITY_AREA_NUMBER', 'COMMUNITY_AREA_NAME',\n",
       "       'PERCENT_OF_HOUSING_CROWDED', 'PERCENT_HOUSEHOLDS_BELOW_POVERTY',\n",
       "       'PERCENT_AGED_16__UNEMPLOYED', 'CASE_NUMBER', 'age25_nodiploma',\n",
       "       'PERCENT_AGED_UNDER_18_OR_OVER_64', 'income_in_EGP', 'HARDSHIP_INDEX',\n",
       "       'low', 'medium', 'high'],\n",
       "      dtype='object')"
      ]
     },
     "execution_count": 38,
     "metadata": {},
     "output_type": "execute_result"
    }
   ],
   "source": [
    "df = pd.read_csv('data.csv')\n",
    "df.columns"
   ]
  },
  {
   "cell_type": "code",
   "execution_count": 39,
   "metadata": {},
   "outputs": [],
   "source": [
    "from scipy import stats "
   ]
  },
  {
   "cell_type": "code",
   "execution_count": 40,
   "metadata": {},
   "outputs": [],
   "source": [
    "pearson_coef , p_value = stats.pearsonr(df['HARDSHIP_INDEX'], df['age25_nodiploma'])"
   ]
  },
  {
   "cell_type": "code",
   "execution_count": 41,
   "metadata": {},
   "outputs": [
    {
     "data": {
      "text/plain": [
       "0.7989693400772131"
      ]
     },
     "execution_count": 41,
     "metadata": {},
     "output_type": "execute_result"
    }
   ],
   "source": [
    "pearson_coef"
   ]
  },
  {
   "cell_type": "code",
   "execution_count": 42,
   "metadata": {},
   "outputs": [
    {
     "data": {
      "text/plain": [
       "5.2087112050801556e-18"
      ]
     },
     "execution_count": 42,
     "metadata": {},
     "output_type": "execute_result"
    }
   ],
   "source": [
    "p_value"
   ]
  },
  {
   "cell_type": "markdown",
   "metadata": {},
   "source": [
    "### the results here indicates that there is a strong correlation as p_value is <0.001 and pearson_coef is near 1"
   ]
  },
  {
   "cell_type": "code",
   "execution_count": 43,
   "metadata": {},
   "outputs": [],
   "source": [
    "pearson_coef , p_value = stats.pearsonr(df['HARDSHIP_INDEX'], df['PERCENT_AGED_UNDER_18_OR_OVER_64'])"
   ]
  },
  {
   "cell_type": "code",
   "execution_count": 44,
   "metadata": {},
   "outputs": [
    {
     "data": {
      "text/plain": [
       "0.699513009515659"
      ]
     },
     "execution_count": 44,
     "metadata": {},
     "output_type": "execute_result"
    }
   ],
   "source": [
    "pearson_coef"
   ]
  },
  {
   "cell_type": "code",
   "execution_count": 45,
   "metadata": {},
   "outputs": [
    {
     "data": {
      "text/plain": [
       "2.074150798951351e-12"
      ]
     },
     "execution_count": 45,
     "metadata": {},
     "output_type": "execute_result"
    }
   ],
   "source": [
    "p_value"
   ]
  },
  {
   "cell_type": "markdown",
   "metadata": {},
   "source": [
    "### the results here indicates that there is a strong correlation as p_value is <0.001 and pearson_coef is near 1"
   ]
  },
  {
   "cell_type": "markdown",
   "metadata": {},
   "source": [
    "## 1- linear regression "
   ]
  },
  {
   "cell_type": "code",
   "execution_count": 47,
   "metadata": {},
   "outputs": [
    {
     "data": {
      "text/html": [
       "<div>\n",
       "<style scoped>\n",
       "    .dataframe tbody tr th:only-of-type {\n",
       "        vertical-align: middle;\n",
       "    }\n",
       "\n",
       "    .dataframe tbody tr th {\n",
       "        vertical-align: top;\n",
       "    }\n",
       "\n",
       "    .dataframe thead th {\n",
       "        text-align: right;\n",
       "    }\n",
       "</style>\n",
       "<table border=\"1\" class=\"dataframe\">\n",
       "  <thead>\n",
       "    <tr style=\"text-align: right;\">\n",
       "      <th></th>\n",
       "      <th>COMMUNITY_AREA_NUMBER</th>\n",
       "      <th>COMMUNITY_AREA_NAME</th>\n",
       "      <th>PERCENT_OF_HOUSING_CROWDED</th>\n",
       "      <th>PERCENT_HOUSEHOLDS_BELOW_POVERTY</th>\n",
       "      <th>PERCENT_AGED_16__UNEMPLOYED</th>\n",
       "      <th>CASE_NUMBER</th>\n",
       "      <th>age25_nodiploma</th>\n",
       "      <th>PERCENT_AGED_UNDER_18_OR_OVER_64</th>\n",
       "      <th>income_in_EGP</th>\n",
       "      <th>HARDSHIP_INDEX</th>\n",
       "      <th>low</th>\n",
       "      <th>medium</th>\n",
       "      <th>high</th>\n",
       "    </tr>\n",
       "  </thead>\n",
       "  <tbody>\n",
       "    <tr>\n",
       "      <td>0</td>\n",
       "      <td>1.0</td>\n",
       "      <td>Rogers Park</td>\n",
       "      <td>7.7</td>\n",
       "      <td>23.6</td>\n",
       "      <td>8.7</td>\n",
       "      <td>HK587712</td>\n",
       "      <td>18.2</td>\n",
       "      <td>27.5</td>\n",
       "      <td>359085.0</td>\n",
       "      <td>-0.388146</td>\n",
       "      <td>1</td>\n",
       "      <td>0</td>\n",
       "      <td>0</td>\n",
       "    </tr>\n",
       "    <tr>\n",
       "      <td>1</td>\n",
       "      <td>2.0</td>\n",
       "      <td>West Ridge</td>\n",
       "      <td>7.8</td>\n",
       "      <td>17.2</td>\n",
       "      <td>8.8</td>\n",
       "      <td>HK456306</td>\n",
       "      <td>20.8</td>\n",
       "      <td>38.5</td>\n",
       "      <td>345600.0</td>\n",
       "      <td>-0.142320</td>\n",
       "      <td>1</td>\n",
       "      <td>0</td>\n",
       "      <td>0</td>\n",
       "    </tr>\n",
       "    <tr>\n",
       "      <td>2</td>\n",
       "      <td>3.0</td>\n",
       "      <td>Uptown</td>\n",
       "      <td>3.8</td>\n",
       "      <td>24.0</td>\n",
       "      <td>8.9</td>\n",
       "      <td>HT233595</td>\n",
       "      <td>11.8</td>\n",
       "      <td>22.2</td>\n",
       "      <td>536805.0</td>\n",
       "      <td>-1.055388</td>\n",
       "      <td>0</td>\n",
       "      <td>1</td>\n",
       "      <td>0</td>\n",
       "    </tr>\n",
       "    <tr>\n",
       "      <td>3</td>\n",
       "      <td>4.0</td>\n",
       "      <td>Lincoln Square</td>\n",
       "      <td>3.4</td>\n",
       "      <td>10.9</td>\n",
       "      <td>8.2</td>\n",
       "      <td>HT133522</td>\n",
       "      <td>13.4</td>\n",
       "      <td>25.5</td>\n",
       "      <td>562860.0</td>\n",
       "      <td>-1.160742</td>\n",
       "      <td>0</td>\n",
       "      <td>1</td>\n",
       "      <td>0</td>\n",
       "    </tr>\n",
       "    <tr>\n",
       "      <td>4</td>\n",
       "      <td>5.0</td>\n",
       "      <td>North Center</td>\n",
       "      <td>0.3</td>\n",
       "      <td>7.5</td>\n",
       "      <td>5.2</td>\n",
       "      <td>HZ138551</td>\n",
       "      <td>4.5</td>\n",
       "      <td>26.2</td>\n",
       "      <td>856845.0</td>\n",
       "      <td>-1.547040</td>\n",
       "      <td>0</td>\n",
       "      <td>1</td>\n",
       "      <td>0</td>\n",
       "    </tr>\n",
       "  </tbody>\n",
       "</table>\n",
       "</div>"
      ],
      "text/plain": [
       "   COMMUNITY_AREA_NUMBER COMMUNITY_AREA_NAME  PERCENT_OF_HOUSING_CROWDED  \\\n",
       "0                    1.0         Rogers Park                         7.7   \n",
       "1                    2.0          West Ridge                         7.8   \n",
       "2                    3.0              Uptown                         3.8   \n",
       "3                    4.0      Lincoln Square                         3.4   \n",
       "4                    5.0        North Center                         0.3   \n",
       "\n",
       "   PERCENT_HOUSEHOLDS_BELOW_POVERTY  PERCENT_AGED_16__UNEMPLOYED CASE_NUMBER  \\\n",
       "0                              23.6                          8.7    HK587712   \n",
       "1                              17.2                          8.8    HK456306   \n",
       "2                              24.0                          8.9    HT233595   \n",
       "3                              10.9                          8.2    HT133522   \n",
       "4                               7.5                          5.2    HZ138551   \n",
       "\n",
       "   age25_nodiploma  PERCENT_AGED_UNDER_18_OR_OVER_64  income_in_EGP  \\\n",
       "0             18.2                              27.5       359085.0   \n",
       "1             20.8                              38.5       345600.0   \n",
       "2             11.8                              22.2       536805.0   \n",
       "3             13.4                              25.5       562860.0   \n",
       "4              4.5                              26.2       856845.0   \n",
       "\n",
       "   HARDSHIP_INDEX  low  medium  high  \n",
       "0       -0.388146    1       0     0  \n",
       "1       -0.142320    1       0     0  \n",
       "2       -1.055388    0       1     0  \n",
       "3       -1.160742    0       1     0  \n",
       "4       -1.547040    0       1     0  "
      ]
     },
     "execution_count": 47,
     "metadata": {},
     "output_type": "execute_result"
    }
   ],
   "source": [
    "df.head()"
   ]
  },
  {
   "cell_type": "code",
   "execution_count": 48,
   "metadata": {},
   "outputs": [],
   "source": [
    "df['HARDSHIP_INDEX'] =df['HARDSHIP_INDEX'] + 10 "
   ]
  },
  {
   "cell_type": "code",
   "execution_count": 49,
   "metadata": {},
   "outputs": [
    {
     "data": {
      "text/html": [
       "<div>\n",
       "<style scoped>\n",
       "    .dataframe tbody tr th:only-of-type {\n",
       "        vertical-align: middle;\n",
       "    }\n",
       "\n",
       "    .dataframe tbody tr th {\n",
       "        vertical-align: top;\n",
       "    }\n",
       "\n",
       "    .dataframe thead th {\n",
       "        text-align: right;\n",
       "    }\n",
       "</style>\n",
       "<table border=\"1\" class=\"dataframe\">\n",
       "  <thead>\n",
       "    <tr style=\"text-align: right;\">\n",
       "      <th></th>\n",
       "      <th>COMMUNITY_AREA_NUMBER</th>\n",
       "      <th>COMMUNITY_AREA_NAME</th>\n",
       "      <th>PERCENT_OF_HOUSING_CROWDED</th>\n",
       "      <th>PERCENT_HOUSEHOLDS_BELOW_POVERTY</th>\n",
       "      <th>PERCENT_AGED_16__UNEMPLOYED</th>\n",
       "      <th>CASE_NUMBER</th>\n",
       "      <th>age25_nodiploma</th>\n",
       "      <th>PERCENT_AGED_UNDER_18_OR_OVER_64</th>\n",
       "      <th>income_in_EGP</th>\n",
       "      <th>HARDSHIP_INDEX</th>\n",
       "      <th>low</th>\n",
       "      <th>medium</th>\n",
       "      <th>high</th>\n",
       "    </tr>\n",
       "  </thead>\n",
       "  <tbody>\n",
       "    <tr>\n",
       "      <td>0</td>\n",
       "      <td>1.0</td>\n",
       "      <td>Rogers Park</td>\n",
       "      <td>7.7</td>\n",
       "      <td>23.6</td>\n",
       "      <td>8.7</td>\n",
       "      <td>HK587712</td>\n",
       "      <td>18.2</td>\n",
       "      <td>27.5</td>\n",
       "      <td>359085.0</td>\n",
       "      <td>9.611854</td>\n",
       "      <td>1</td>\n",
       "      <td>0</td>\n",
       "      <td>0</td>\n",
       "    </tr>\n",
       "    <tr>\n",
       "      <td>1</td>\n",
       "      <td>2.0</td>\n",
       "      <td>West Ridge</td>\n",
       "      <td>7.8</td>\n",
       "      <td>17.2</td>\n",
       "      <td>8.8</td>\n",
       "      <td>HK456306</td>\n",
       "      <td>20.8</td>\n",
       "      <td>38.5</td>\n",
       "      <td>345600.0</td>\n",
       "      <td>9.857680</td>\n",
       "      <td>1</td>\n",
       "      <td>0</td>\n",
       "      <td>0</td>\n",
       "    </tr>\n",
       "    <tr>\n",
       "      <td>2</td>\n",
       "      <td>3.0</td>\n",
       "      <td>Uptown</td>\n",
       "      <td>3.8</td>\n",
       "      <td>24.0</td>\n",
       "      <td>8.9</td>\n",
       "      <td>HT233595</td>\n",
       "      <td>11.8</td>\n",
       "      <td>22.2</td>\n",
       "      <td>536805.0</td>\n",
       "      <td>8.944612</td>\n",
       "      <td>0</td>\n",
       "      <td>1</td>\n",
       "      <td>0</td>\n",
       "    </tr>\n",
       "    <tr>\n",
       "      <td>3</td>\n",
       "      <td>4.0</td>\n",
       "      <td>Lincoln Square</td>\n",
       "      <td>3.4</td>\n",
       "      <td>10.9</td>\n",
       "      <td>8.2</td>\n",
       "      <td>HT133522</td>\n",
       "      <td>13.4</td>\n",
       "      <td>25.5</td>\n",
       "      <td>562860.0</td>\n",
       "      <td>8.839258</td>\n",
       "      <td>0</td>\n",
       "      <td>1</td>\n",
       "      <td>0</td>\n",
       "    </tr>\n",
       "    <tr>\n",
       "      <td>4</td>\n",
       "      <td>5.0</td>\n",
       "      <td>North Center</td>\n",
       "      <td>0.3</td>\n",
       "      <td>7.5</td>\n",
       "      <td>5.2</td>\n",
       "      <td>HZ138551</td>\n",
       "      <td>4.5</td>\n",
       "      <td>26.2</td>\n",
       "      <td>856845.0</td>\n",
       "      <td>8.452960</td>\n",
       "      <td>0</td>\n",
       "      <td>1</td>\n",
       "      <td>0</td>\n",
       "    </tr>\n",
       "  </tbody>\n",
       "</table>\n",
       "</div>"
      ],
      "text/plain": [
       "   COMMUNITY_AREA_NUMBER COMMUNITY_AREA_NAME  PERCENT_OF_HOUSING_CROWDED  \\\n",
       "0                    1.0         Rogers Park                         7.7   \n",
       "1                    2.0          West Ridge                         7.8   \n",
       "2                    3.0              Uptown                         3.8   \n",
       "3                    4.0      Lincoln Square                         3.4   \n",
       "4                    5.0        North Center                         0.3   \n",
       "\n",
       "   PERCENT_HOUSEHOLDS_BELOW_POVERTY  PERCENT_AGED_16__UNEMPLOYED CASE_NUMBER  \\\n",
       "0                              23.6                          8.7    HK587712   \n",
       "1                              17.2                          8.8    HK456306   \n",
       "2                              24.0                          8.9    HT233595   \n",
       "3                              10.9                          8.2    HT133522   \n",
       "4                               7.5                          5.2    HZ138551   \n",
       "\n",
       "   age25_nodiploma  PERCENT_AGED_UNDER_18_OR_OVER_64  income_in_EGP  \\\n",
       "0             18.2                              27.5       359085.0   \n",
       "1             20.8                              38.5       345600.0   \n",
       "2             11.8                              22.2       536805.0   \n",
       "3             13.4                              25.5       562860.0   \n",
       "4              4.5                              26.2       856845.0   \n",
       "\n",
       "   HARDSHIP_INDEX  low  medium  high  \n",
       "0        9.611854    1       0     0  \n",
       "1        9.857680    1       0     0  \n",
       "2        8.944612    0       1     0  \n",
       "3        8.839258    0       1     0  \n",
       "4        8.452960    0       1     0  "
      ]
     },
     "execution_count": 49,
     "metadata": {},
     "output_type": "execute_result"
    }
   ],
   "source": [
    "df.head()"
   ]
  },
  {
   "cell_type": "code",
   "execution_count": 50,
   "metadata": {},
   "outputs": [],
   "source": [
    "from sklearn.linear_model import LinearRegression "
   ]
  },
  {
   "cell_type": "code",
   "execution_count": 51,
   "metadata": {},
   "outputs": [],
   "source": [
    "lm = LinearRegression()"
   ]
  },
  {
   "cell_type": "markdown",
   "metadata": {},
   "source": [
    "### A-simple linear regression "
   ]
  },
  {
   "cell_type": "code",
   "execution_count": 52,
   "metadata": {},
   "outputs": [
    {
     "data": {
      "text/plain": [
       "Index(['COMMUNITY_AREA_NUMBER', 'COMMUNITY_AREA_NAME',\n",
       "       'PERCENT_OF_HOUSING_CROWDED', 'PERCENT_HOUSEHOLDS_BELOW_POVERTY',\n",
       "       'PERCENT_AGED_16__UNEMPLOYED', 'CASE_NUMBER', 'age25_nodiploma',\n",
       "       'PERCENT_AGED_UNDER_18_OR_OVER_64', 'income_in_EGP', 'HARDSHIP_INDEX',\n",
       "       'low', 'medium', 'high'],\n",
       "      dtype='object')"
      ]
     },
     "execution_count": 52,
     "metadata": {},
     "output_type": "execute_result"
    }
   ],
   "source": [
    "df.columns"
   ]
  },
  {
   "cell_type": "code",
   "execution_count": 212,
   "metadata": {},
   "outputs": [],
   "source": [
    "x = df[['age25_nodiploma']]\n",
    "y = df[['HARDSHIP_INDEX']]"
   ]
  },
  {
   "cell_type": "code",
   "execution_count": 213,
   "metadata": {},
   "outputs": [
    {
     "data": {
      "text/plain": [
       "LinearRegression(copy_X=True, fit_intercept=True, n_jobs=None,\n",
       "         normalize=False)"
      ]
     },
     "execution_count": 213,
     "metadata": {},
     "output_type": "execute_result"
    }
   ],
   "source": [
    "lm.fit(x , y)"
   ]
  },
  {
   "cell_type": "code",
   "execution_count": 214,
   "metadata": {},
   "outputs": [],
   "source": [
    "yhat_simpler = lm.predict(x)"
   ]
  },
  {
   "cell_type": "code",
   "execution_count": 215,
   "metadata": {},
   "outputs": [
    {
     "data": {
      "text/plain": [
       "array([[ 9.84355014],\n",
       "       [10.01950058],\n",
       "       [ 9.41044135],\n",
       "       [ 9.51871855],\n",
       "       [ 8.91642664]])"
      ]
     },
     "execution_count": 215,
     "metadata": {},
     "output_type": "execute_result"
    }
   ],
   "source": [
    "yhat_simpler[0:5]"
   ]
  },
  {
   "cell_type": "code",
   "execution_count": null,
   "metadata": {},
   "outputs": [],
   "source": [
    "b1 =lm.intercept_"
   ]
  },
  {
   "cell_type": "code",
   "execution_count": null,
   "metadata": {},
   "outputs": [],
   "source": [
    "b0 = lm.coef_"
   ]
  },
  {
   "cell_type": "code",
   "execution_count": null,
   "metadata": {},
   "outputs": [],
   "source": [
    "y = b1 + b0 *14.2"
   ]
  },
  {
   "cell_type": "code",
   "execution_count": null,
   "metadata": {},
   "outputs": [],
   "source": [
    "y "
   ]
  },
  {
   "cell_type": "code",
   "execution_count": 61,
   "metadata": {},
   "outputs": [
    {
     "data": {
      "text/plain": [
       "Index(['COMMUNITY_AREA_NUMBER', 'COMMUNITY_AREA_NAME',\n",
       "       'PERCENT_OF_HOUSING_CROWDED', 'PERCENT_HOUSEHOLDS_BELOW_POVERTY',\n",
       "       'PERCENT_AGED_16__UNEMPLOYED', 'CASE_NUMBER', 'age25_nodiploma',\n",
       "       'PERCENT_AGED_UNDER_18_OR_OVER_64', 'income_in_EGP', 'HARDSHIP_INDEX',\n",
       "       'low', 'medium', 'high'],\n",
       "      dtype='object')"
      ]
     },
     "execution_count": 61,
     "metadata": {},
     "output_type": "execute_result"
    }
   ],
   "source": [
    "df.columns"
   ]
  },
  {
   "cell_type": "code",
   "execution_count": null,
   "metadata": {},
   "outputs": [],
   "source": []
  },
  {
   "cell_type": "markdown",
   "metadata": {},
   "source": [
    "### B-multiple linear regression "
   ]
  },
  {
   "cell_type": "code",
   "execution_count": 216,
   "metadata": {},
   "outputs": [],
   "source": [
    "t = df[['PERCENT_AGED_UNDER_18_OR_OVER_64', 'age25_nodiploma']]\n",
    "m = df[['HARDSHIP_INDEX']]\n",
    "lm.fit(t , m)\n",
    "yhat_multibler = lm.predict(t)\n"
   ]
  },
  {
   "cell_type": "code",
   "execution_count": 217,
   "metadata": {},
   "outputs": [
    {
     "data": {
      "text/html": [
       "<div>\n",
       "<style scoped>\n",
       "    .dataframe tbody tr th:only-of-type {\n",
       "        vertical-align: middle;\n",
       "    }\n",
       "\n",
       "    .dataframe tbody tr th {\n",
       "        vertical-align: top;\n",
       "    }\n",
       "\n",
       "    .dataframe thead th {\n",
       "        text-align: right;\n",
       "    }\n",
       "</style>\n",
       "<table border=\"1\" class=\"dataframe\">\n",
       "  <thead>\n",
       "    <tr style=\"text-align: right;\">\n",
       "      <th></th>\n",
       "      <th>PERCENT_AGED_UNDER_18_OR_OVER_64</th>\n",
       "      <th>age25_nodiploma</th>\n",
       "    </tr>\n",
       "  </thead>\n",
       "  <tbody>\n",
       "    <tr>\n",
       "      <td>0</td>\n",
       "      <td>27.5</td>\n",
       "      <td>18.2</td>\n",
       "    </tr>\n",
       "    <tr>\n",
       "      <td>1</td>\n",
       "      <td>38.5</td>\n",
       "      <td>20.8</td>\n",
       "    </tr>\n",
       "    <tr>\n",
       "      <td>2</td>\n",
       "      <td>22.2</td>\n",
       "      <td>11.8</td>\n",
       "    </tr>\n",
       "    <tr>\n",
       "      <td>3</td>\n",
       "      <td>25.5</td>\n",
       "      <td>13.4</td>\n",
       "    </tr>\n",
       "    <tr>\n",
       "      <td>4</td>\n",
       "      <td>26.2</td>\n",
       "      <td>4.5</td>\n",
       "    </tr>\n",
       "    <tr>\n",
       "      <td>...</td>\n",
       "      <td>...</td>\n",
       "      <td>...</td>\n",
       "    </tr>\n",
       "    <tr>\n",
       "      <td>71</td>\n",
       "      <td>42.6</td>\n",
       "      <td>13.7</td>\n",
       "    </tr>\n",
       "    <tr>\n",
       "      <td>72</td>\n",
       "      <td>36.8</td>\n",
       "      <td>4.3</td>\n",
       "    </tr>\n",
       "    <tr>\n",
       "      <td>73</td>\n",
       "      <td>40.3</td>\n",
       "      <td>10.8</td>\n",
       "    </tr>\n",
       "    <tr>\n",
       "      <td>74</td>\n",
       "      <td>30.3</td>\n",
       "      <td>10.9</td>\n",
       "    </tr>\n",
       "    <tr>\n",
       "      <td>75</td>\n",
       "      <td>23.8</td>\n",
       "      <td>9.7</td>\n",
       "    </tr>\n",
       "  </tbody>\n",
       "</table>\n",
       "<p>76 rows × 2 columns</p>\n",
       "</div>"
      ],
      "text/plain": [
       "    PERCENT_AGED_UNDER_18_OR_OVER_64  age25_nodiploma\n",
       "0                               27.5             18.2\n",
       "1                               38.5             20.8\n",
       "2                               22.2             11.8\n",
       "3                               25.5             13.4\n",
       "4                               26.2              4.5\n",
       "..                               ...              ...\n",
       "71                              42.6             13.7\n",
       "72                              36.8              4.3\n",
       "73                              40.3             10.8\n",
       "74                              30.3             10.9\n",
       "75                              23.8              9.7\n",
       "\n",
       "[76 rows x 2 columns]"
      ]
     },
     "execution_count": 217,
     "metadata": {},
     "output_type": "execute_result"
    }
   ],
   "source": [
    "t"
   ]
  },
  {
   "cell_type": "code",
   "execution_count": 218,
   "metadata": {},
   "outputs": [
    {
     "data": {
      "text/plain": [
       "array([6.76704348])"
      ]
     },
     "execution_count": 218,
     "metadata": {},
     "output_type": "execute_result"
    }
   ],
   "source": [
    "b0 = lm.intercept_\n",
    "b0"
   ]
  },
  {
   "cell_type": "code",
   "execution_count": 219,
   "metadata": {},
   "outputs": [
    {
     "name": "stdout",
     "output_type": "stream",
     "text": [
      "[0.06052264 0.05212174]\n"
     ]
    }
   ],
   "source": [
    "b = lm.coef_\n",
    "for x in b:\n",
    "    print(x)"
   ]
  },
  {
   "cell_type": "code",
   "execution_count": 220,
   "metadata": {},
   "outputs": [],
   "source": [
    "y = b0  + 0.06*8.5 + 0.05* 12.5"
   ]
  },
  {
   "cell_type": "code",
   "execution_count": 221,
   "metadata": {},
   "outputs": [
    {
     "data": {
      "text/plain": [
       "array([7.90204348])"
      ]
     },
     "execution_count": 221,
     "metadata": {},
     "output_type": "execute_result"
    }
   ],
   "source": [
    "y"
   ]
  },
  {
   "cell_type": "markdown",
   "metadata": {},
   "source": [
    "<h3>2)  Model Evaluation using Visualization</h3>"
   ]
  },
  {
   "cell_type": "markdown",
   "metadata": {},
   "source": [
    "## A- Regression Plot"
   ]
  },
  {
   "cell_type": "markdown",
   "metadata": {},
   "source": [
    "### first, age25_nodiploma as predictor "
   ]
  },
  {
   "cell_type": "code",
   "execution_count": 67,
   "metadata": {},
   "outputs": [],
   "source": [
    "import seaborn as sns"
   ]
  },
  {
   "cell_type": "code",
   "execution_count": 68,
   "metadata": {},
   "outputs": [
    {
     "name": "stderr",
     "output_type": "stream",
     "text": [
      "/home/jupyterlab/conda/envs/python/lib/python3.6/site-packages/scipy/stats/stats.py:1713: FutureWarning: Using a non-tuple sequence for multidimensional indexing is deprecated; use `arr[tuple(seq)]` instead of `arr[seq]`. In the future this will be interpreted as an array index, `arr[np.array(seq)]`, which will result either in an error or a different result.\n",
      "  return np.add.reduce(sorted[indexer] * weights, axis=axis) / sumval\n"
     ]
    },
    {
     "data": {
      "text/plain": [
       "(0, 13.252847944500443)"
      ]
     },
     "execution_count": 68,
     "metadata": {},
     "output_type": "execute_result"
    },
    {
     "data": {
      "image/png": "[encoded data removed]",
      "text/plain": [
       "<Figure size 864x720 with 1 Axes>"
      ]
     },
     "metadata": {
      "needs_background": "light"
     },
     "output_type": "display_data"
    }
   ],
   "source": [
    "height = 10\n",
    "width = 12\n",
    "plt.figure( figsize = (width , height))\n",
    "sns.regplot(x = 'age25_nodiploma' , y = 'HARDSHIP_INDEX' , data = df)\n",
    "plt.ylim(0,)"
   ]
  },
  {
   "cell_type": "markdown",
   "metadata": {},
   "source": [
    "### second , PERCENT_AGED_UNDER_18_OR_OVER_64 as predictor "
   ]
  },
  {
   "cell_type": "code",
   "execution_count": 69,
   "metadata": {},
   "outputs": [
    {
     "data": {
      "text/plain": [
       "(0, 12.277982105900039)"
      ]
     },
     "execution_count": 69,
     "metadata": {},
     "output_type": "execute_result"
    },
    {
     "data": {
      "image/png": "[encoded data removed]",
      "text/plain": [
       "<Figure size 864x720 with 1 Axes>"
      ]
     },
     "metadata": {
      "needs_background": "light"
     },
     "output_type": "display_data"
    }
   ],
   "source": [
    "height = 10\n",
    "width = 12\n",
    "plt.figure( figsize = (width , height))\n",
    "sns.regplot(x = 'PERCENT_AGED_UNDER_18_OR_OVER_64' , y = 'HARDSHIP_INDEX' , data = df)\n",
    "plt.ylim(0,)"
   ]
  },
  {
   "cell_type": "markdown",
   "metadata": {},
   "source": [
    "## B- Residual plot"
   ]
  },
  {
   "cell_type": "markdown",
   "metadata": {},
   "source": [
    "### first, age25_nodiploma as predictor "
   ]
  },
  {
   "cell_type": "code",
   "execution_count": 70,
   "metadata": {},
   "outputs": [
    {
     "data": {
      "text/plain": [
       "<matplotlib.axes._subplots.AxesSubplot at 0x7f17c11a8ef0>"
      ]
     },
     "execution_count": 70,
     "metadata": {},
     "output_type": "execute_result"
    },
    {
     "data": {
      "image/png": "[encoded data removed]",
      "text/plain": [
       "<Figure size 432x288 with 1 Axes>"
      ]
     },
     "metadata": {
      "needs_background": "light"
     },
     "output_type": "display_data"
    }
   ],
   "source": [
    "sns.residplot(df['age25_nodiploma'] , df['HARDSHIP_INDEX'])"
   ]
  },
  {
   "cell_type": "markdown",
   "metadata": {},
   "source": [
    "<i>What is this plot telling us?</i>\n",
    "### here residuals are distributed around the mean of zero indicating that linear plot may be appropriate "
   ]
  },
  {
   "cell_type": "markdown",
   "metadata": {},
   "source": [
    "### second , PERCENT_AGED_UNDER_18_OR_OVER_64 as predictor "
   ]
  },
  {
   "cell_type": "code",
   "execution_count": null,
   "metadata": {},
   "outputs": [],
   "source": []
  },
  {
   "cell_type": "code",
   "execution_count": 71,
   "metadata": {},
   "outputs": [
    {
     "data": {
      "text/plain": [
       "<matplotlib.axes._subplots.AxesSubplot at 0x7f17c1185748>"
      ]
     },
     "execution_count": 71,
     "metadata": {},
     "output_type": "execute_result"
    },
    {
     "data": {
      "image/png": "[encoded data removed]",
      "text/plain": [
       "<Figure size 432x288 with 1 Axes>"
      ]
     },
     "metadata": {
      "needs_background": "light"
     },
     "output_type": "display_data"
    }
   ],
   "source": [
    "sns.residplot(df['PERCENT_AGED_UNDER_18_OR_OVER_64'] , df['HARDSHIP_INDEX'])"
   ]
  },
  {
   "cell_type": "markdown",
   "metadata": {},
   "source": [
    "<i>What is this plot telling us?</i>\n",
    "### here residuals are distributed around the mean of zero indicating that linear plot may be appropriate "
   ]
  },
  {
   "cell_type": "markdown",
   "metadata": {},
   "source": [
    "# C-Distribution plot"
   ]
  },
  {
   "cell_type": "markdown",
   "metadata": {},
   "source": [
    "### first, age25_nodiploma as predictor"
   ]
  },
  {
   "cell_type": "code",
   "execution_count": 72,
   "metadata": {},
   "outputs": [
    {
     "name": "stderr",
     "output_type": "stream",
     "text": [
      "/home/jupyterlab/conda/envs/python/lib/python3.6/site-packages/scipy/stats/stats.py:1713: FutureWarning: Using a non-tuple sequence for multidimensional indexing is deprecated; use `arr[tuple(seq)]` instead of `arr[seq]`. In the future this will be interpreted as an array index, `arr[np.array(seq)]`, which will result either in an error or a different result.\n",
      "  return np.add.reduce(sorted[indexer] * weights, axis=axis) / sumval\n"
     ]
    },
    {
     "data": {
      "image/png": "[encoded data removed]",
      "text/plain": [
       "<Figure size 864x720 with 1 Axes>"
      ]
     },
     "metadata": {
      "needs_background": "light"
     },
     "output_type": "display_data"
    }
   ],
   "source": [
    "plt.figure(figsize=(width, height))\n",
    "\n",
    "z= df[['age25_nodiploma']]\n",
    "y = df[['HARDSHIP_INDEX']]\n",
    "lm.fit(z , y)\n",
    "yhat = lm.predict(z)\n",
    "ax1 = sns.distplot(df['HARDSHIP_INDEX'] , hist =False , color = \"r\" , label= 'actual values')\n",
    "sns.distplot(yhat , hist =False , color = \"b\", label = \"fitted values\", ax = ax1)\n",
    "\n",
    "plt.title('Actual vs Fitted Values for Price')\n",
    "plt.xlabel('age25_nodiploma')\n",
    "plt.ylabel('HARDSHIP_INDEX')\n",
    "\n",
    "plt.show()\n",
    "plt.close()"
   ]
  },
  {
   "cell_type": "code",
   "execution_count": 73,
   "metadata": {},
   "outputs": [],
   "source": [
    "# this plot indicates that"
   ]
  },
  {
   "cell_type": "markdown",
   "metadata": {},
   "source": [
    "### second , PERCENT_AGED_UNDER_18_OR_OVER_64 as predictor "
   ]
  },
  {
   "cell_type": "code",
   "execution_count": 74,
   "metadata": {},
   "outputs": [
    {
     "name": "stderr",
     "output_type": "stream",
     "text": [
      "/home/jupyterlab/conda/envs/python/lib/python3.6/site-packages/scipy/stats/stats.py:1713: FutureWarning: Using a non-tuple sequence for multidimensional indexing is deprecated; use `arr[tuple(seq)]` instead of `arr[seq]`. In the future this will be interpreted as an array index, `arr[np.array(seq)]`, which will result either in an error or a different result.\n",
      "  return np.add.reduce(sorted[indexer] * weights, axis=axis) / sumval\n"
     ]
    },
    {
     "data": {
      "image/png": "[encoded data removed]",
      "text/plain": [
       "<Figure size 864x720 with 1 Axes>"
      ]
     },
     "metadata": {
      "needs_background": "light"
     },
     "output_type": "display_data"
    }
   ],
   "source": [
    "plt.figure(figsize=(width, height))\n",
    "\n",
    "z= df[['PERCENT_AGED_UNDER_18_OR_OVER_64']]\n",
    "y = df[['HARDSHIP_INDEX']]\n",
    "lm.fit(z , y)\n",
    "yhat = lm.predict(z)\n",
    "ax1 = sns.distplot(df['HARDSHIP_INDEX'] , hist =False , color = \"r\" , label= 'actual values')\n",
    "sns.distplot(yhat , hist =False , color = \"b\", label = \"fitted values\", ax = ax1)\n",
    "\n",
    "plt.title('Actual vs Fitted Values for Price')\n",
    "plt.xlabel('PERCENT_AGED_UNDER_18_OR_OVER_64')\n",
    "plt.ylabel('HARDSHIP_INDEX')\n",
    "\n",
    "plt.show()\n",
    "plt.close()"
   ]
  },
  {
   "cell_type": "markdown",
   "metadata": {},
   "source": [
    "### the previous two plots  We can look at the distribution of the fitted values that result from the model and compare it to the distribution of the actual values indicating that there is big different between the predicted values and the actual values, this model is not a good choice to work with"
   ]
  },
  {
   "cell_type": "markdown",
   "metadata": {},
   "source": [
    "## third , we use both PERCENT_AGED_UNDER_18_OR_OVER_64 and age25_nodiploma"
   ]
  },
  {
   "cell_type": "code",
   "execution_count": 75,
   "metadata": {},
   "outputs": [
    {
     "name": "stderr",
     "output_type": "stream",
     "text": [
      "/home/jupyterlab/conda/envs/python/lib/python3.6/site-packages/scipy/stats/stats.py:1713: FutureWarning: Using a non-tuple sequence for multidimensional indexing is deprecated; use `arr[tuple(seq)]` instead of `arr[seq]`. In the future this will be interpreted as an array index, `arr[np.array(seq)]`, which will result either in an error or a different result.\n",
      "  return np.add.reduce(sorted[indexer] * weights, axis=axis) / sumval\n"
     ]
    },
    {
     "data": {
      "image/png": "[encoded data removed]",
      "text/plain": [
       "<Figure size 864x720 with 1 Axes>"
      ]
     },
     "metadata": {
      "needs_background": "light"
     },
     "output_type": "display_data"
    }
   ],
   "source": [
    "plt.figure(figsize=(width, height))\n",
    "z= df[['PERCENT_AGED_UNDER_18_OR_OVER_64','age25_nodiploma' ]]\n",
    "y = df[['HARDSHIP_INDEX']]\n",
    "lm.fit(z , y)\n",
    "yhat = lm.predict(z)\n",
    "ax1 = sns.distplot(df['HARDSHIP_INDEX'] , hist =False , color = \"r\" , label= 'actual values')\n",
    "sns.distplot(yhat , hist =False , color = \"b\", label = \"fitted values\", ax = ax1)\n",
    "\n",
    "plt.title('Actual vs Fitted Values for Price')\n",
    "plt.xlabel('PERCENT_AGED_UNDER_18_OR_OVER_64')\n",
    "plt.ylabel('HARDSHIP_INDEX')\n",
    "\n",
    "plt.show()\n",
    "plt.close()"
   ]
  },
  {
   "cell_type": "markdown",
   "metadata": {},
   "source": [
    "<p>We can see that the fitted values are reasonably close to the actual values, since the two distributions overlap a bit. However, there is definitely some room for improvement.</p>"
   ]
  },
  {
   "cell_type": "markdown",
   "metadata": {},
   "source": [
    "<h2>Part 3: Polynomial Regression and Pipelines</h2>"
   ]
  },
  {
   "cell_type": "markdown",
   "metadata": {},
   "source": [
    "### Polynomial Regression with 1D"
   ]
  },
  {
   "cell_type": "markdown",
   "metadata": {},
   "source": [
    "### incase of 1D we can use numpy"
   ]
  },
  {
   "cell_type": "code",
   "execution_count": 159,
   "metadata": {},
   "outputs": [],
   "source": [
    "# this part is here just to creat visulization of the new created points \n",
    "def PlotPolly(model, independent_variable, dependent_variabble, Name):\n",
    "    x_new = np.linspace(8, 10, 12)\n",
    "    y_new = model(x_new)\n",
    "\n",
    "    plt.plot(independent_variable, dependent_variabble, '.', x_new, y_new, '-')\n",
    "    plt.title('Polynomial Fit with Matplotlib for Price ~ Length')\n",
    "    ax = plt.gca()\n",
    "    ax.set_facecolor((0.898, 0.898, 0.898))\n",
    "    fig = plt.gcf()\n",
    "    plt.xlabel(Name)\n",
    "    plt.ylabel('Price of Cars')\n",
    "\n",
    "    plt.show()\n",
    "    plt.close()"
   ]
  },
  {
   "cell_type": "code",
   "execution_count": 160,
   "metadata": {},
   "outputs": [
    {
     "data": {
      "text/plain": [
       "Index(['COMMUNITY_AREA_NUMBER', 'COMMUNITY_AREA_NAME',\n",
       "       'PERCENT_OF_HOUSING_CROWDED', 'PERCENT_HOUSEHOLDS_BELOW_POVERTY',\n",
       "       'PERCENT_AGED_16__UNEMPLOYED', 'CASE_NUMBER', 'age25_nodiploma',\n",
       "       'PERCENT_AGED_UNDER_18_OR_OVER_64', 'income_in_EGP', 'HARDSHIP_INDEX',\n",
       "       'low', 'medium', 'high'],\n",
       "      dtype='object')"
      ]
     },
     "execution_count": 160,
     "metadata": {},
     "output_type": "execute_result"
    }
   ],
   "source": [
    "df.columns"
   ]
  },
  {
   "cell_type": "code",
   "execution_count": 308,
   "metadata": {},
   "outputs": [],
   "source": [
    "o = df['HARDSHIP_INDEX']\n",
    "w = df['PERCENT_AGED_UNDER_18_OR_OVER_64']"
   ]
  },
  {
   "cell_type": "code",
   "execution_count": 309,
   "metadata": {},
   "outputs": [],
   "source": [
    "f = np.polyfit(w , o , 3)"
   ]
  },
  {
   "cell_type": "code",
   "execution_count": 310,
   "metadata": {},
   "outputs": [],
   "source": [
    "p = np.poly1d(f)"
   ]
  },
  {
   "cell_type": "code",
   "execution_count": 311,
   "metadata": {},
   "outputs": [
    {
     "data": {
      "text/plain": [
       "poly1d([-1.69850437e-05,  2.15268466e-03,  1.15472721e-02,  7.58743743e+00])"
      ]
     },
     "execution_count": 311,
     "metadata": {},
     "output_type": "execute_result"
    }
   ],
   "source": [
    "p"
   ]
  },
  {
   "cell_type": "code",
   "execution_count": 312,
   "metadata": {},
   "outputs": [
    {
     "data": {
      "text/plain": [
       "array([7.58814418, 7.58804514])"
      ]
     },
     "execution_count": 312,
     "metadata": {},
     "output_type": "execute_result"
    }
   ],
   "source": [
    "p(x)"
   ]
  },
  {
   "cell_type": "code",
   "execution_count": 313,
   "metadata": {},
   "outputs": [
    {
     "data": {
      "image/png": "[encoded data removed]",
      "text/plain": [
       "<Figure size 432x288 with 1 Axes>"
      ]
     },
     "metadata": {
      "needs_background": "light"
     },
     "output_type": "display_data"
    }
   ],
   "source": [
    "PlotPolly(p, o, w, 'age25_nodiploma')"
   ]
  },
  {
   "cell_type": "markdown",
   "metadata": {},
   "source": [
    "### Polynomial Regression with more than 1D"
   ]
  },
  {
   "cell_type": "markdown",
   "metadata": {},
   "source": [
    "### here we can't use numpy poly fit , we use pre-processing library in scikit-learn "
   ]
  },
  {
   "cell_type": "code",
   "execution_count": 274,
   "metadata": {},
   "outputs": [],
   "source": [
    "from sklearn.preprocessing import PolynomialFeatures"
   ]
  },
  {
   "cell_type": "code",
   "execution_count": 275,
   "metadata": {},
   "outputs": [
    {
     "data": {
      "text/plain": [
       "PolynomialFeatures(degree=2, include_bias=True, interaction_only=False)"
      ]
     },
     "execution_count": 275,
     "metadata": {},
     "output_type": "execute_result"
    }
   ],
   "source": [
    "pr=PolynomialFeatures(degree=2)\n",
    "pr"
   ]
  },
  {
   "cell_type": "code",
   "execution_count": 276,
   "metadata": {},
   "outputs": [
    {
     "data": {
      "text/html": [
       "<div>\n",
       "<style scoped>\n",
       "    .dataframe tbody tr th:only-of-type {\n",
       "        vertical-align: middle;\n",
       "    }\n",
       "\n",
       "    .dataframe tbody tr th {\n",
       "        vertical-align: top;\n",
       "    }\n",
       "\n",
       "    .dataframe thead th {\n",
       "        text-align: right;\n",
       "    }\n",
       "</style>\n",
       "<table border=\"1\" class=\"dataframe\">\n",
       "  <thead>\n",
       "    <tr style=\"text-align: right;\">\n",
       "      <th></th>\n",
       "      <th>COMMUNITY_AREA_NUMBER</th>\n",
       "      <th>COMMUNITY_AREA_NAME</th>\n",
       "      <th>PERCENT_OF_HOUSING_CROWDED</th>\n",
       "      <th>PERCENT_HOUSEHOLDS_BELOW_POVERTY</th>\n",
       "      <th>PERCENT_AGED_16__UNEMPLOYED</th>\n",
       "      <th>CASE_NUMBER</th>\n",
       "      <th>age25_nodiploma</th>\n",
       "      <th>PERCENT_AGED_UNDER_18_OR_OVER_64</th>\n",
       "      <th>income_in_EGP</th>\n",
       "      <th>HARDSHIP_INDEX</th>\n",
       "      <th>low</th>\n",
       "      <th>medium</th>\n",
       "      <th>high</th>\n",
       "    </tr>\n",
       "  </thead>\n",
       "  <tbody>\n",
       "    <tr>\n",
       "      <td>0</td>\n",
       "      <td>1.0</td>\n",
       "      <td>Rogers Park</td>\n",
       "      <td>7.7</td>\n",
       "      <td>23.6</td>\n",
       "      <td>8.7</td>\n",
       "      <td>HK587712</td>\n",
       "      <td>18.2</td>\n",
       "      <td>27.5</td>\n",
       "      <td>359085.0</td>\n",
       "      <td>9.611854</td>\n",
       "      <td>1</td>\n",
       "      <td>0</td>\n",
       "      <td>0</td>\n",
       "    </tr>\n",
       "    <tr>\n",
       "      <td>1</td>\n",
       "      <td>2.0</td>\n",
       "      <td>West Ridge</td>\n",
       "      <td>7.8</td>\n",
       "      <td>17.2</td>\n",
       "      <td>8.8</td>\n",
       "      <td>HK456306</td>\n",
       "      <td>20.8</td>\n",
       "      <td>38.5</td>\n",
       "      <td>345600.0</td>\n",
       "      <td>9.857680</td>\n",
       "      <td>1</td>\n",
       "      <td>0</td>\n",
       "      <td>0</td>\n",
       "    </tr>\n",
       "    <tr>\n",
       "      <td>2</td>\n",
       "      <td>3.0</td>\n",
       "      <td>Uptown</td>\n",
       "      <td>3.8</td>\n",
       "      <td>24.0</td>\n",
       "      <td>8.9</td>\n",
       "      <td>HT233595</td>\n",
       "      <td>11.8</td>\n",
       "      <td>22.2</td>\n",
       "      <td>536805.0</td>\n",
       "      <td>8.944612</td>\n",
       "      <td>0</td>\n",
       "      <td>1</td>\n",
       "      <td>0</td>\n",
       "    </tr>\n",
       "    <tr>\n",
       "      <td>3</td>\n",
       "      <td>4.0</td>\n",
       "      <td>Lincoln Square</td>\n",
       "      <td>3.4</td>\n",
       "      <td>10.9</td>\n",
       "      <td>8.2</td>\n",
       "      <td>HT133522</td>\n",
       "      <td>13.4</td>\n",
       "      <td>25.5</td>\n",
       "      <td>562860.0</td>\n",
       "      <td>8.839258</td>\n",
       "      <td>0</td>\n",
       "      <td>1</td>\n",
       "      <td>0</td>\n",
       "    </tr>\n",
       "    <tr>\n",
       "      <td>4</td>\n",
       "      <td>5.0</td>\n",
       "      <td>North Center</td>\n",
       "      <td>0.3</td>\n",
       "      <td>7.5</td>\n",
       "      <td>5.2</td>\n",
       "      <td>HZ138551</td>\n",
       "      <td>4.5</td>\n",
       "      <td>26.2</td>\n",
       "      <td>856845.0</td>\n",
       "      <td>8.452960</td>\n",
       "      <td>0</td>\n",
       "      <td>1</td>\n",
       "      <td>0</td>\n",
       "    </tr>\n",
       "    <tr>\n",
       "      <td>...</td>\n",
       "      <td>...</td>\n",
       "      <td>...</td>\n",
       "      <td>...</td>\n",
       "      <td>...</td>\n",
       "      <td>...</td>\n",
       "      <td>...</td>\n",
       "      <td>...</td>\n",
       "      <td>...</td>\n",
       "      <td>...</td>\n",
       "      <td>...</td>\n",
       "      <td>...</td>\n",
       "      <td>...</td>\n",
       "      <td>...</td>\n",
       "    </tr>\n",
       "    <tr>\n",
       "      <td>71</td>\n",
       "      <td>73.0</td>\n",
       "      <td>Washington Height</td>\n",
       "      <td>1.1</td>\n",
       "      <td>16.9</td>\n",
       "      <td>20.8</td>\n",
       "      <td>HY291329</td>\n",
       "      <td>13.7</td>\n",
       "      <td>42.6</td>\n",
       "      <td>295695.0</td>\n",
       "      <td>9.927916</td>\n",
       "      <td>1</td>\n",
       "      <td>0</td>\n",
       "      <td>0</td>\n",
       "    </tr>\n",
       "    <tr>\n",
       "      <td>72</td>\n",
       "      <td>74.0</td>\n",
       "      <td>Mount Greenwood</td>\n",
       "      <td>1.0</td>\n",
       "      <td>3.4</td>\n",
       "      <td>8.7</td>\n",
       "      <td>HJ678713</td>\n",
       "      <td>4.3</td>\n",
       "      <td>36.8</td>\n",
       "      <td>515715.0</td>\n",
       "      <td>8.804140</td>\n",
       "      <td>1</td>\n",
       "      <td>0</td>\n",
       "      <td>0</td>\n",
       "    </tr>\n",
       "    <tr>\n",
       "      <td>73</td>\n",
       "      <td>75.0</td>\n",
       "      <td>Morgan Park</td>\n",
       "      <td>0.8</td>\n",
       "      <td>13.2</td>\n",
       "      <td>15.0</td>\n",
       "      <td>NaN</td>\n",
       "      <td>10.8</td>\n",
       "      <td>40.3</td>\n",
       "      <td>407235.0</td>\n",
       "      <td>9.295792</td>\n",
       "      <td>1</td>\n",
       "      <td>0</td>\n",
       "      <td>0</td>\n",
       "    </tr>\n",
       "    <tr>\n",
       "      <td>74</td>\n",
       "      <td>76.0</td>\n",
       "      <td>O'Hare</td>\n",
       "      <td>3.6</td>\n",
       "      <td>15.4</td>\n",
       "      <td>7.1</td>\n",
       "      <td>HX155070</td>\n",
       "      <td>10.9</td>\n",
       "      <td>30.3</td>\n",
       "      <td>387420.0</td>\n",
       "      <td>9.085084</td>\n",
       "      <td>1</td>\n",
       "      <td>0</td>\n",
       "      <td>0</td>\n",
       "    </tr>\n",
       "    <tr>\n",
       "      <td>75</td>\n",
       "      <td>77.0</td>\n",
       "      <td>Edgewater</td>\n",
       "      <td>4.1</td>\n",
       "      <td>18.2</td>\n",
       "      <td>9.2</td>\n",
       "      <td>HV402967</td>\n",
       "      <td>9.7</td>\n",
       "      <td>23.8</td>\n",
       "      <td>500775.0</td>\n",
       "      <td>8.909494</td>\n",
       "      <td>1</td>\n",
       "      <td>0</td>\n",
       "      <td>0</td>\n",
       "    </tr>\n",
       "  </tbody>\n",
       "</table>\n",
       "<p>76 rows × 13 columns</p>\n",
       "</div>"
      ],
      "text/plain": [
       "    COMMUNITY_AREA_NUMBER COMMUNITY_AREA_NAME  PERCENT_OF_HOUSING_CROWDED  \\\n",
       "0                     1.0         Rogers Park                         7.7   \n",
       "1                     2.0          West Ridge                         7.8   \n",
       "2                     3.0              Uptown                         3.8   \n",
       "3                     4.0      Lincoln Square                         3.4   \n",
       "4                     5.0        North Center                         0.3   \n",
       "..                    ...                 ...                         ...   \n",
       "71                   73.0   Washington Height                         1.1   \n",
       "72                   74.0     Mount Greenwood                         1.0   \n",
       "73                   75.0         Morgan Park                         0.8   \n",
       "74                   76.0              O'Hare                         3.6   \n",
       "75                   77.0           Edgewater                         4.1   \n",
       "\n",
       "    PERCENT_HOUSEHOLDS_BELOW_POVERTY  PERCENT_AGED_16__UNEMPLOYED CASE_NUMBER  \\\n",
       "0                               23.6                          8.7    HK587712   \n",
       "1                               17.2                          8.8    HK456306   \n",
       "2                               24.0                          8.9    HT233595   \n",
       "3                               10.9                          8.2    HT133522   \n",
       "4                                7.5                          5.2    HZ138551   \n",
       "..                               ...                          ...         ...   \n",
       "71                              16.9                         20.8    HY291329   \n",
       "72                               3.4                          8.7    HJ678713   \n",
       "73                              13.2                         15.0         NaN   \n",
       "74                              15.4                          7.1    HX155070   \n",
       "75                              18.2                          9.2    HV402967   \n",
       "\n",
       "    age25_nodiploma  PERCENT_AGED_UNDER_18_OR_OVER_64  income_in_EGP  \\\n",
       "0              18.2                              27.5       359085.0   \n",
       "1              20.8                              38.5       345600.0   \n",
       "2              11.8                              22.2       536805.0   \n",
       "3              13.4                              25.5       562860.0   \n",
       "4               4.5                              26.2       856845.0   \n",
       "..              ...                               ...            ...   \n",
       "71             13.7                              42.6       295695.0   \n",
       "72              4.3                              36.8       515715.0   \n",
       "73             10.8                              40.3       407235.0   \n",
       "74             10.9                              30.3       387420.0   \n",
       "75              9.7                              23.8       500775.0   \n",
       "\n",
       "    HARDSHIP_INDEX  low  medium  high  \n",
       "0         9.611854    1       0     0  \n",
       "1         9.857680    1       0     0  \n",
       "2         8.944612    0       1     0  \n",
       "3         8.839258    0       1     0  \n",
       "4         8.452960    0       1     0  \n",
       "..             ...  ...     ...   ...  \n",
       "71        9.927916    1       0     0  \n",
       "72        8.804140    1       0     0  \n",
       "73        9.295792    1       0     0  \n",
       "74        9.085084    1       0     0  \n",
       "75        8.909494    1       0     0  \n",
       "\n",
       "[76 rows x 13 columns]"
      ]
     },
     "execution_count": 276,
     "metadata": {},
     "output_type": "execute_result"
    }
   ],
   "source": [
    "df"
   ]
  },
  {
   "cell_type": "code",
   "execution_count": 277,
   "metadata": {},
   "outputs": [],
   "source": [
    "x_polly = pr.fit_transform(df[['age25_nodiploma', 'PERCENT_AGED_UNDER_18_OR_OVER_64']])"
   ]
  },
  {
   "cell_type": "code",
   "execution_count": 278,
   "metadata": {},
   "outputs": [
    {
     "data": {
      "text/plain": [
       "array([[1.00000e+00, 1.82000e+01, 2.75000e+01, 3.31240e+02, 5.00500e+02,\n",
       "        7.56250e+02],\n",
       "       [1.00000e+00, 2.08000e+01, 3.85000e+01, 4.32640e+02, 8.00800e+02,\n",
       "        1.48225e+03],\n",
       "       [1.00000e+00, 1.18000e+01, 2.22000e+01, 1.39240e+02, 2.61960e+02,\n",
       "        4.92840e+02],\n",
       "       [1.00000e+00, 1.34000e+01, 2.55000e+01, 1.79560e+02, 3.41700e+02,\n",
       "        6.50250e+02],\n",
       "       [1.00000e+00, 4.50000e+00, 2.62000e+01, 2.02500e+01, 1.17900e+02,\n",
       "        6.86440e+02],\n",
       "       [1.00000e+00, 2.60000e+00, 1.70000e+01, 6.76000e+00, 4.42000e+01,\n",
       "        2.89000e+02],\n",
       "       [1.00000e+00, 3.60000e+00, 2.15000e+01, 1.29600e+01, 7.74000e+01,\n",
       "        4.62250e+02],\n",
       "       [1.00000e+00, 2.50000e+00, 2.26000e+01, 6.25000e+00, 5.65000e+01,\n",
       "        5.10760e+02],\n",
       "       [1.00000e+00, 1.15000e+01, 3.95000e+01, 1.32250e+02, 4.54250e+02,\n",
       "        1.56025e+03],\n",
       "       [1.00000e+00, 1.34000e+01, 3.55000e+01, 1.79560e+02, 4.75700e+02,\n",
       "        1.26025e+03],\n",
       "       [1.00000e+00, 4.90000e+00, 4.05000e+01, 2.40100e+01, 1.98450e+02,\n",
       "        1.64025e+03],\n",
       "       [1.00000e+00, 1.44000e+01, 3.90000e+01, 2.07360e+02, 5.61600e+02,\n",
       "        1.52100e+03],\n",
       "       [1.00000e+00, 3.29000e+01, 3.20000e+01, 1.08241e+03, 1.05280e+03,\n",
       "        1.02400e+03],\n",
       "       [1.00000e+00, 1.93000e+01, 3.40000e+01, 3.72490e+02, 6.56200e+02,\n",
       "        1.15600e+03],\n",
       "       [1.00000e+00, 2.24000e+01, 3.16000e+01, 5.01760e+02, 7.07840e+02,\n",
       "        9.98560e+02],\n",
       "       [1.00000e+00, 1.62000e+01, 3.36000e+01, 2.62440e+02, 5.44320e+02,\n",
       "        1.12896e+03],\n",
       "       [1.00000e+00, 2.35000e+01, 3.86000e+01, 5.52250e+02, 9.07100e+02,\n",
       "        1.48996e+03],\n",
       "       [1.00000e+00, 3.73000e+01, 3.73000e+01, 1.39129e+03, 1.39129e+03,\n",
       "        1.39129e+03],\n",
       "       [1.00000e+00, 4.16000e+01, 3.64000e+01, 1.73056e+03, 1.51424e+03,\n",
       "        1.32496e+03],\n",
       "       [1.00000e+00, 2.47000e+01, 3.10000e+01, 6.10090e+02, 7.65700e+02,\n",
       "        9.61000e+02],\n",
       "       [1.00000e+00, 1.48000e+01, 2.62000e+01, 2.19040e+02, 3.87760e+02,\n",
       "        6.86440e+02],\n",
       "       [1.00000e+00, 3.54000e+01, 3.80000e+01, 1.25316e+03, 1.34520e+03,\n",
       "        1.44400e+03],\n",
       "       [1.00000e+00, 1.29000e+01, 2.17000e+01, 1.66410e+02, 2.79930e+02,\n",
       "        4.70890e+02],\n",
       "       [1.00000e+00, 2.44000e+01, 3.79000e+01, 5.95360e+02, 9.24760e+02,\n",
       "        1.43641e+03],\n",
       "       [1.00000e+00, 2.45000e+01, 4.36000e+01, 6.00250e+02, 1.06820e+03,\n",
       "        1.90096e+03],\n",
       "       [1.00000e+00, 2.13000e+01, 4.32000e+01, 4.53690e+02, 9.20160e+02,\n",
       "        1.86624e+03],\n",
       "       [1.00000e+00, 9.60000e+00, 2.22000e+01, 9.21600e+01, 2.13120e+02,\n",
       "        4.92840e+02],\n",
       "       [1.00000e+00, 2.76000e+01, 4.27000e+01, 7.61760e+02, 1.17852e+03,\n",
       "        1.82329e+03],\n",
       "       [1.00000e+00, 5.48000e+01, 3.38000e+01, 3.00304e+03, 1.85224e+03,\n",
       "        1.14244e+03],\n",
       "       [1.00000e+00, 4.07000e+01, 3.26000e+01, 1.65649e+03, 1.32682e+03,\n",
       "        1.06276e+03],\n",
       "       [1.00000e+00, 3.10000e+00, 1.35000e+01, 9.61000e+00, 4.18500e+01,\n",
       "        1.82250e+02],\n",
       "       [1.00000e+00, 7.40000e+00, 2.18000e+01, 5.47600e+01, 1.61320e+02,\n",
       "        4.75240e+02],\n",
       "       [1.00000e+00, 3.45000e+01, 3.83000e+01, 1.19025e+03, 1.32135e+03,\n",
       "        1.46689e+03],\n",
       "       [1.00000e+00, 1.43000e+01, 3.07000e+01, 2.04490e+02, 4.39010e+02,\n",
       "        9.42490e+02],\n",
       "       [1.00000e+00, 1.84000e+01, 4.04000e+01, 3.38560e+02, 7.43360e+02,\n",
       "        1.63216e+03],\n",
       "       [1.00000e+00, 2.66000e+01, 4.49000e+01, 7.07560e+02, 1.19434e+03,\n",
       "        2.01601e+03],\n",
       "       [1.00000e+00, 1.59000e+01, 3.95000e+01, 2.52810e+02, 6.28050e+02,\n",
       "        1.56025e+03],\n",
       "       [1.00000e+00, 1.13000e+01, 3.54000e+01, 1.27690e+02, 4.00020e+02,\n",
       "        1.25316e+03],\n",
       "       [1.00000e+00, 2.54000e+01, 4.28000e+01, 6.45160e+02, 1.08712e+03,\n",
       "        1.83184e+03],\n",
       "       [1.00000e+00, 4.30000e+00, 2.62000e+01, 1.84900e+01, 1.12660e+02,\n",
       "        6.86440e+02],\n",
       "       [1.00000e+00, 1.65000e+01, 3.61000e+01, 2.72250e+02, 5.95650e+02,\n",
       "        1.30321e+03],\n",
       "       [1.00000e+00, 1.40000e+01, 3.57000e+01, 1.96000e+02, 4.99800e+02,\n",
       "        1.27449e+03],\n",
       "       [1.00000e+00, 1.45000e+01, 4.03000e+01, 2.10250e+02, 5.84350e+02,\n",
       "        1.62409e+03],\n",
       "       [1.00000e+00, 1.06000e+01, 3.93000e+01, 1.12360e+02, 4.16580e+02,\n",
       "        1.54449e+03],\n",
       "       [1.00000e+00, 2.66000e+01, 4.11000e+01, 7.07560e+02, 1.09326e+03,\n",
       "        1.68921e+03],\n",
       "       [1.00000e+00, 1.93000e+01, 4.27000e+01, 3.72490e+02, 8.24110e+02,\n",
       "        1.82329e+03],\n",
       "       [1.00000e+00, 1.10000e+01, 4.40000e+01, 1.21000e+02, 4.84000e+02,\n",
       "        1.93600e+03],\n",
       "       [1.00000e+00, 1.69000e+01, 4.12000e+01, 2.85610e+02, 6.96280e+02,\n",
       "        1.69744e+03],\n",
       "       [1.00000e+00, 1.31000e+01, 3.86000e+01, 1.71610e+02, 5.05660e+02,\n",
       "        1.48996e+03],\n",
       "       [1.00000e+00, 2.10000e+01, 3.95000e+01, 4.41000e+02, 8.29500e+02,\n",
       "        1.56025e+03],\n",
       "       [1.00000e+00, 3.19000e+01, 4.28000e+01, 1.01761e+03, 1.36532e+03,\n",
       "        1.83184e+03],\n",
       "       [1.00000e+00, 2.05000e+01, 4.21000e+01, 4.20250e+02, 8.63050e+02,\n",
       "        1.77241e+03],\n",
       "       [1.00000e+00, 2.75000e+01, 5.15000e+01, 7.56250e+02, 1.41625e+03,\n",
       "        2.65225e+03],\n",
       "       [1.00000e+00, 1.92000e+01, 4.29000e+01, 3.68640e+02, 8.23680e+02,\n",
       "        1.84041e+03],\n",
       "       [1.00000e+00, 1.93000e+01, 3.81000e+01, 3.72490e+02, 7.35330e+02,\n",
       "        1.45161e+03],\n",
       "       [1.00000e+00, 3.59000e+01, 3.92000e+01, 1.28881e+03, 1.40728e+03,\n",
       "        1.53664e+03],\n",
       "       [1.00000e+00, 4.51000e+01, 3.93000e+01, 2.03401e+03, 1.77243e+03,\n",
       "        1.54449e+03],\n",
       "       [1.00000e+00, 3.29000e+01, 3.56000e+01, 1.08241e+03, 1.17124e+03,\n",
       "        1.26736e+03],\n",
       "       [1.00000e+00, 2.22000e+01, 3.13000e+01, 4.92840e+02, 6.94860e+02,\n",
       "        9.79690e+02],\n",
       "       [1.00000e+00, 4.15000e+01, 3.89000e+01, 1.72225e+03, 1.61435e+03,\n",
       "        1.51321e+03],\n",
       "       [1.00000e+00, 3.70000e+01, 3.77000e+01, 1.36900e+03, 1.39490e+03,\n",
       "        1.42129e+03],\n",
       "       [1.00000e+00, 5.15000e+01, 3.88000e+01, 2.65225e+03, 1.99820e+03,\n",
       "        1.50544e+03],\n",
       "       [1.00000e+00, 1.88000e+01, 3.76000e+01, 3.53440e+02, 7.06880e+02,\n",
       "        1.41376e+03],\n",
       "       [1.00000e+00, 3.36000e+01, 3.96000e+01, 1.12896e+03, 1.33056e+03,\n",
       "        1.56816e+03],\n",
       "       [1.00000e+00, 3.12000e+01, 4.06000e+01, 9.73440e+02, 1.26672e+03,\n",
       "        1.64836e+03],\n",
       "       [1.00000e+00, 2.63000e+01, 4.07000e+01, 6.91690e+02, 1.07041e+03,\n",
       "        1.65649e+03],\n",
       "       [1.00000e+00, 2.85000e+01, 4.25000e+01, 8.12250e+02, 1.21125e+03,\n",
       "        1.80625e+03],\n",
       "       [1.00000e+00, 1.65000e+01, 4.10000e+01, 2.72250e+02, 6.76500e+02,\n",
       "        1.68100e+03],\n",
       "       [1.00000e+00, 1.77000e+01, 3.69000e+01, 3.13290e+02, 6.53130e+02,\n",
       "        1.36161e+03],\n",
       "       [1.00000e+00, 1.85000e+01, 4.19000e+01, 3.42250e+02, 7.75150e+02,\n",
       "        1.75561e+03],\n",
       "       [1.00000e+00, 3.70000e+00, 4.05000e+01, 1.36900e+01, 1.49850e+02,\n",
       "        1.64025e+03],\n",
       "       [1.00000e+00, 1.37000e+01, 4.26000e+01, 1.87690e+02, 5.83620e+02,\n",
       "        1.81476e+03],\n",
       "       [1.00000e+00, 4.30000e+00, 3.68000e+01, 1.84900e+01, 1.58240e+02,\n",
       "        1.35424e+03],\n",
       "       [1.00000e+00, 1.08000e+01, 4.03000e+01, 1.16640e+02, 4.35240e+02,\n",
       "        1.62409e+03],\n",
       "       [1.00000e+00, 1.09000e+01, 3.03000e+01, 1.18810e+02, 3.30270e+02,\n",
       "        9.18090e+02],\n",
       "       [1.00000e+00, 9.70000e+00, 2.38000e+01, 9.40900e+01, 2.30860e+02,\n",
       "        5.66440e+02]])"
      ]
     },
     "execution_count": 278,
     "metadata": {},
     "output_type": "execute_result"
    }
   ],
   "source": [
    "x_polly"
   ]
  },
  {
   "cell_type": "markdown",
   "metadata": {},
   "source": [
    "###  dimensions would get greater, so we would need to normalize the steps of each feature simultaneously "
   ]
  },
  {
   "cell_type": "code",
   "execution_count": 172,
   "metadata": {},
   "outputs": [],
   "source": [
    "from sklearn.pipeline import Pipeline\n",
    "from sklearn.preprocessing import StandardScaler"
   ]
  },
  {
   "cell_type": "code",
   "execution_count": 173,
   "metadata": {},
   "outputs": [],
   "source": [
    "scale = StandardScaler()"
   ]
  },
  {
   "cell_type": "code",
   "execution_count": 174,
   "metadata": {},
   "outputs": [
    {
     "data": {
      "text/plain": [
       "StandardScaler(copy=True, with_mean=True, with_std=True)"
      ]
     },
     "execution_count": 174,
     "metadata": {},
     "output_type": "execute_result"
    }
   ],
   "source": [
    "scale.fit(df[['age25_nodiploma', 'PERCENT_AGED_UNDER_18_OR_OVER_64']])\n"
   ]
  },
  {
   "cell_type": "code",
   "execution_count": 175,
   "metadata": {},
   "outputs": [],
   "source": [
    "x_scale = scale.transform(df[['age25_nodiploma', 'PERCENT_AGED_UNDER_18_OR_OVER_64']])"
   ]
  },
  {
   "cell_type": "code",
   "execution_count": 176,
   "metadata": {},
   "outputs": [
    {
     "data": {
      "text/plain": [
       "array([[-1.97115710e-01, -1.12624949e+00],\n",
       "       [ 2.45693457e-02,  3.74937650e-01],\n",
       "       [-7.42802001e-01, -1.84954875e+00],\n",
       "       [-6.06380428e-01, -1.39919261e+00],\n",
       "       [-1.36522543e+00, -1.30366252e+00],\n",
       "       [-1.52722604e+00, -2.55920086e+00],\n",
       "       [-1.44196256e+00, -1.94507884e+00],\n",
       "       [-1.53575239e+00, -1.79496013e+00],\n",
       "       [-7.68381046e-01,  5.11409208e-01],\n",
       "       [-6.06380428e-01, -3.44770253e-02],\n",
       "       [-1.33112003e+00,  6.47880767e-01],\n",
       "       [-5.21116945e-01,  4.43173429e-01],\n",
       "       [ 1.05625749e+00, -5.12127480e-01],\n",
       "       [-1.03325879e-01, -2.39184363e-01],\n",
       "       [ 1.60990918e-01, -5.66716103e-01],\n",
       "       [-3.67642676e-01, -2.93772986e-01],\n",
       "       [ 2.54780750e-01,  3.88584806e-01],\n",
       "       [ 1.43141681e+00,  2.11171780e-01],\n",
       "       [ 1.79804979e+00,  8.83473773e-02],\n",
       "       [ 3.57096929e-01, -6.48599038e-01],\n",
       "       [-4.87011552e-01, -1.30366252e+00],\n",
       "       [ 1.26941620e+00,  3.06701871e-01],\n",
       "       [-6.49012170e-01, -1.91778453e+00],\n",
       "       [ 3.31517884e-01,  2.93054715e-01],\n",
       "       [ 3.40044233e-01,  1.07094260e+00],\n",
       "       [ 6.72010872e-02,  1.01635397e+00],\n",
       "       [-9.30381663e-01, -1.84954875e+00],\n",
       "       [ 6.04361030e-01,  9.48118195e-01],\n",
       "       [ 2.92352777e+00, -2.66478675e-01],\n",
       "       [ 1.72131266e+00, -4.30244545e-01],\n",
       "       [-1.48459430e+00, -3.03685131e+00],\n",
       "       [-1.11796133e+00, -1.90413738e+00],\n",
       "       [ 1.19267906e+00,  3.47643338e-01],\n",
       "       [-5.29643293e-01, -6.89540505e-01],\n",
       "       [-1.80063013e-01,  6.34233611e-01],\n",
       "       [ 5.19097547e-01,  1.24835562e+00],\n",
       "       [-3.93221721e-01,  5.11409208e-01],\n",
       "       [-7.85433742e-01, -4.81241811e-02],\n",
       "       [ 4.16781367e-01,  9.61765351e-01],\n",
       "       [-1.38227812e+00, -1.30366252e+00],\n",
       "       [-3.42063631e-01,  4.74059098e-02],\n",
       "       [-5.55222338e-01, -7.18271360e-03],\n",
       "       [-5.12590597e-01,  6.20586455e-01],\n",
       "       [-8.45118180e-01,  4.84114897e-01],\n",
       "       [ 5.19097547e-01,  7.29763702e-01],\n",
       "       [-1.03325879e-01,  9.48118195e-01],\n",
       "       [-8.11012787e-01,  1.12553122e+00],\n",
       "       [-3.07958238e-01,  7.43410857e-01],\n",
       "       [-6.31959473e-01,  3.88584806e-01],\n",
       "       [ 4.16220423e-02,  5.11409208e-01],\n",
       "       [ 9.70994007e-01,  9.61765351e-01],\n",
       "       [-1.00969914e-03,  8.66235260e-01],\n",
       "       [ 5.95834682e-01,  2.14906791e+00],\n",
       "       [-1.11852227e-01,  9.75412507e-01],\n",
       "       [-1.03325879e-01,  3.20349027e-01],\n",
       "       [ 1.31204794e+00,  4.70467741e-01],\n",
       "       [ 2.09647198e+00,  4.84114897e-01],\n",
       "       [ 1.05625749e+00, -2.08298694e-02],\n",
       "       [ 1.43938222e-01, -6.07657570e-01],\n",
       "       [ 1.78952344e+00,  4.29526273e-01],\n",
       "       [ 1.40583777e+00,  2.65760403e-01],\n",
       "       [ 2.64215827e+00,  4.15879117e-01],\n",
       "       [-1.45957620e-01,  2.52113247e-01],\n",
       "       [ 1.11594193e+00,  5.25056364e-01],\n",
       "       [ 9.11309569e-01,  6.61527922e-01],\n",
       "       [ 4.93518502e-01,  6.75175078e-01],\n",
       "       [ 6.81098165e-01,  9.20823883e-01],\n",
       "       [-3.42063631e-01,  7.16116546e-01],\n",
       "       [-2.39747451e-01,  1.56583156e-01],\n",
       "       [-1.71536665e-01,  8.38940948e-01],\n",
       "       [-1.43343621e+00,  6.47880767e-01],\n",
       "       [-5.80801383e-01,  9.34471039e-01],\n",
       "       [-1.38227812e+00,  1.42936001e-01],\n",
       "       [-8.28065484e-01,  6.20586455e-01],\n",
       "       [-8.19539136e-01, -7.44129129e-01],\n",
       "       [-9.21855315e-01, -1.63119426e+00]])"
      ]
     },
     "execution_count": 176,
     "metadata": {},
     "output_type": "execute_result"
    }
   ],
   "source": [
    "x_scale"
   ]
  },
  {
   "cell_type": "markdown",
   "metadata": {},
   "source": [
    "<h2>Pipeline</h2>"
   ]
  },
  {
   "cell_type": "markdown",
   "metadata": {},
   "source": [
    "### Data Pipelines simplify the steps of processing the data. We use the module Pipeline to create a pipeline. with pipeline we can perform data analysis with regression , PolynomialFeatures and standardscaler, in one step as follow  "
   ]
  },
  {
   "cell_type": "markdown",
   "metadata": {},
   "source": [
    "### We create the pipeline, by creating a list of tuples including the name of the model or estimator and its corresponding constructor."
   ]
  },
  {
   "cell_type": "code",
   "execution_count": 178,
   "metadata": {},
   "outputs": [],
   "source": [
    "Input=[('scale',StandardScaler()), ('polynomial', PolynomialFeatures(include_bias=False)), ('model',LinearRegression())]"
   ]
  },
  {
   "cell_type": "code",
   "execution_count": 179,
   "metadata": {},
   "outputs": [],
   "source": [
    "pipe=Pipeline(Input)"
   ]
  },
  {
   "cell_type": "code",
   "execution_count": 183,
   "metadata": {},
   "outputs": [],
   "source": [
    "z = df[['age25_nodiploma', 'PERCENT_AGED_UNDER_18_OR_OVER_64']]\n",
    "y = df['HARDSHIP_INDEX']"
   ]
  },
  {
   "cell_type": "code",
   "execution_count": 184,
   "metadata": {},
   "outputs": [
    {
     "data": {
      "text/plain": [
       "Pipeline(memory=None,\n",
       "     steps=[('scale', StandardScaler(copy=True, with_mean=True, with_std=True)), ('polynomial', PolynomialFeatures(degree=2, include_bias=False, interaction_only=False)), ('model', LinearRegression(copy_X=True, fit_intercept=True, n_jobs=None,\n",
       "         normalize=False))])"
      ]
     },
     "execution_count": 184,
     "metadata": {},
     "output_type": "execute_result"
    }
   ],
   "source": [
    "pipe.fit(z,y)"
   ]
  },
  {
   "cell_type": "markdown",
   "metadata": {},
   "source": [
    "###  we can normalize the data, perform a transform and produce a prediction simultaneously"
   ]
  },
  {
   "cell_type": "code",
   "execution_count": 187,
   "metadata": {},
   "outputs": [
    {
     "data": {
      "text/plain": [
       "array([ 9.34120095, 10.192084  ,  8.8409217 ,  9.00390835,  8.448093  ,\n",
       "        8.31345442,  8.34271164,  8.27084062,  9.58481914,  9.4605036 ])"
      ]
     },
     "execution_count": 187,
     "metadata": {},
     "output_type": "execute_result"
    }
   ],
   "source": [
    "ypipe=pipe.predict(z)\n",
    "ypipe[0:10]"
   ]
  },
  {
   "cell_type": "markdown",
   "metadata": {},
   "source": [
    "<h2> Measures for In-Sample Evaluation</h2>"
   ]
  },
  {
   "cell_type": "markdown",
   "metadata": {},
   "source": [
    " <li><b>R^2 / R-squared</b></li>\n",
    "    <li><b>Mean Squared Error (MSE)</b></li>"
   ]
  },
  {
   "cell_type": "markdown",
   "metadata": {},
   "source": [
    "### let's test each model"
   ]
  },
  {
   "cell_type": "markdown",
   "metadata": {},
   "source": [
    "#### 1-simple linear regression"
   ]
  },
  {
   "cell_type": "markdown",
   "metadata": {},
   "source": [
    "#### Let's calculate the R^2"
   ]
  },
  {
   "cell_type": "code",
   "execution_count": 230,
   "metadata": {},
   "outputs": [],
   "source": [
    "k = df[['age25_nodiploma']]\n",
    "l = df[['HARDSHIP_INDEX']]"
   ]
  },
  {
   "cell_type": "code",
   "execution_count": 231,
   "metadata": {},
   "outputs": [
    {
     "data": {
      "text/plain": [
       "0.6383520063834172"
      ]
     },
     "execution_count": 231,
     "metadata": {},
     "output_type": "execute_result"
    }
   ],
   "source": [
    "lm.fit(k,l)\n",
    "lm.score(k,l)"
   ]
  },
  {
   "cell_type": "markdown",
   "metadata": {},
   "source": [
    "#### Let's calculate the MSE"
   ]
  },
  {
   "cell_type": "code",
   "execution_count": 233,
   "metadata": {},
   "outputs": [
    {
     "data": {
      "text/plain": [
       "array([[ 9.84355014],\n",
       "       [10.01950058],\n",
       "       [ 9.41044135],\n",
       "       [ 9.51871855]])"
      ]
     },
     "execution_count": 233,
     "metadata": {},
     "output_type": "execute_result"
    }
   ],
   "source": [
    "yhat_simpler[0:4]"
   ]
  },
  {
   "cell_type": "markdown",
   "metadata": {},
   "source": [
    "calculate the MSE:"
   ]
  },
  {
   "cell_type": "code",
   "execution_count": 234,
   "metadata": {},
   "outputs": [],
   "source": [
    "from sklearn.metrics import mean_squared_error"
   ]
  },
  {
   "cell_type": "code",
   "execution_count": 235,
   "metadata": {},
   "outputs": [],
   "source": [
    "mse = mean_squared_error(l, yhat_simpler)"
   ]
  },
  {
   "cell_type": "code",
   "execution_count": 236,
   "metadata": {},
   "outputs": [
    {
     "data": {
      "text/plain": [
       "0.3568894673847858"
      ]
     },
     "execution_count": 236,
     "metadata": {},
     "output_type": "execute_result"
    }
   ],
   "source": [
    "mse"
   ]
  },
  {
   "cell_type": "markdown",
   "metadata": {},
   "source": [
    "<h3>Model 2: Multiple Linear Regression</h3>"
   ]
  },
  {
   "cell_type": "markdown",
   "metadata": {},
   "source": [
    "Let's calculate the R^2"
   ]
  },
  {
   "cell_type": "code",
   "execution_count": 334,
   "metadata": {},
   "outputs": [
    {
     "data": {
      "text/html": [
       "<div>\n",
       "<style scoped>\n",
       "    .dataframe tbody tr th:only-of-type {\n",
       "        vertical-align: middle;\n",
       "    }\n",
       "\n",
       "    .dataframe tbody tr th {\n",
       "        vertical-align: top;\n",
       "    }\n",
       "\n",
       "    .dataframe thead th {\n",
       "        text-align: right;\n",
       "    }\n",
       "</style>\n",
       "<table border=\"1\" class=\"dataframe\">\n",
       "  <thead>\n",
       "    <tr style=\"text-align: right;\">\n",
       "      <th></th>\n",
       "      <th>PERCENT_AGED_UNDER_18_OR_OVER_64</th>\n",
       "      <th>age25_nodiploma</th>\n",
       "    </tr>\n",
       "  </thead>\n",
       "  <tbody>\n",
       "    <tr>\n",
       "      <td>0</td>\n",
       "      <td>27.5</td>\n",
       "      <td>18.2</td>\n",
       "    </tr>\n",
       "    <tr>\n",
       "      <td>1</td>\n",
       "      <td>38.5</td>\n",
       "      <td>20.8</td>\n",
       "    </tr>\n",
       "    <tr>\n",
       "      <td>2</td>\n",
       "      <td>22.2</td>\n",
       "      <td>11.8</td>\n",
       "    </tr>\n",
       "    <tr>\n",
       "      <td>3</td>\n",
       "      <td>25.5</td>\n",
       "      <td>13.4</td>\n",
       "    </tr>\n",
       "    <tr>\n",
       "      <td>4</td>\n",
       "      <td>26.2</td>\n",
       "      <td>4.5</td>\n",
       "    </tr>\n",
       "    <tr>\n",
       "      <td>...</td>\n",
       "      <td>...</td>\n",
       "      <td>...</td>\n",
       "    </tr>\n",
       "    <tr>\n",
       "      <td>71</td>\n",
       "      <td>42.6</td>\n",
       "      <td>13.7</td>\n",
       "    </tr>\n",
       "    <tr>\n",
       "      <td>72</td>\n",
       "      <td>36.8</td>\n",
       "      <td>4.3</td>\n",
       "    </tr>\n",
       "    <tr>\n",
       "      <td>73</td>\n",
       "      <td>40.3</td>\n",
       "      <td>10.8</td>\n",
       "    </tr>\n",
       "    <tr>\n",
       "      <td>74</td>\n",
       "      <td>30.3</td>\n",
       "      <td>10.9</td>\n",
       "    </tr>\n",
       "    <tr>\n",
       "      <td>75</td>\n",
       "      <td>23.8</td>\n",
       "      <td>9.7</td>\n",
       "    </tr>\n",
       "  </tbody>\n",
       "</table>\n",
       "<p>76 rows × 2 columns</p>\n",
       "</div>"
      ],
      "text/plain": [
       "    PERCENT_AGED_UNDER_18_OR_OVER_64  age25_nodiploma\n",
       "0                               27.5             18.2\n",
       "1                               38.5             20.8\n",
       "2                               22.2             11.8\n",
       "3                               25.5             13.4\n",
       "4                               26.2              4.5\n",
       "..                               ...              ...\n",
       "71                              42.6             13.7\n",
       "72                              36.8              4.3\n",
       "73                              40.3             10.8\n",
       "74                              30.3             10.9\n",
       "75                              23.8              9.7\n",
       "\n",
       "[76 rows x 2 columns]"
      ]
     },
     "execution_count": 334,
     "metadata": {},
     "output_type": "execute_result"
    }
   ],
   "source": [
    "t"
   ]
  },
  {
   "cell_type": "code",
   "execution_count": 238,
   "metadata": {},
   "outputs": [
    {
     "data": {
      "text/plain": [
       "0.8039394114927966"
      ]
     },
     "execution_count": 238,
     "metadata": {},
     "output_type": "execute_result"
    }
   ],
   "source": [
    "lm.fit(t,m)\n",
    "lm.score(t,m)"
   ]
  },
  {
   "cell_type": "markdown",
   "metadata": {},
   "source": [
    "calculate the MSE:"
   ]
  },
  {
   "cell_type": "code",
   "execution_count": 239,
   "metadata": {},
   "outputs": [],
   "source": [
    "mse = mean_squared_error(m, yhat_multibler)"
   ]
  },
  {
   "cell_type": "code",
   "execution_count": 240,
   "metadata": {},
   "outputs": [
    {
     "data": {
      "text/plain": [
       "0.19348084392158238"
      ]
     },
     "execution_count": 240,
     "metadata": {},
     "output_type": "execute_result"
    }
   ],
   "source": [
    "mse"
   ]
  },
  {
   "cell_type": "markdown",
   "metadata": {},
   "source": [
    "<h3>Model 3: Polynomial Fit</h3>"
   ]
  },
  {
   "cell_type": "markdown",
   "metadata": {},
   "source": [
    "Let's calculate the R^2"
   ]
  },
  {
   "cell_type": "code",
   "execution_count": 258,
   "metadata": {},
   "outputs": [],
   "source": [
    "e = df[['age25_nodiploma']]\n",
    "n = df[['HARDSHIP_INDEX']]"
   ]
  },
  {
   "cell_type": "code",
   "execution_count": 259,
   "metadata": {},
   "outputs": [
    {
     "data": {
      "text/plain": [
       "0.6383520063834172"
      ]
     },
     "execution_count": 259,
     "metadata": {},
     "output_type": "execute_result"
    }
   ],
   "source": [
    "lm.fit(e,n)\n",
    "lm.score(e,n)"
   ]
  },
  {
   "cell_type": "markdown",
   "metadata": {},
   "source": [
    "calculate the MSE:"
   ]
  },
  {
   "cell_type": "code",
   "execution_count": 314,
   "metadata": {},
   "outputs": [
    {
     "data": {
      "text/plain": [
       "array([7.58814418, 7.58804514])"
      ]
     },
     "execution_count": 314,
     "metadata": {},
     "output_type": "execute_result"
    }
   ],
   "source": [
    "p(x)"
   ]
  },
  {
   "cell_type": "code",
   "execution_count": 317,
   "metadata": {},
   "outputs": [],
   "source": [
    "mse = mean_squared_error(n[0:2], p(x))"
   ]
  },
  {
   "cell_type": "code",
   "execution_count": 318,
   "metadata": {},
   "outputs": [
    {
     "data": {
      "text/plain": [
       "4.623321007579651"
      ]
     },
     "execution_count": 318,
     "metadata": {},
     "output_type": "execute_result"
    }
   ],
   "source": [
    "mse"
   ]
  },
  {
   "cell_type": "markdown",
   "metadata": {},
   "source": [
    "<h2> Prediction and Decision Making</h2>\n",
    "<h3>Prediction</h3>\n",
    "\n",
    "<p>In the previous section, we trained the model using the method <b>fit</b>. Now we will use the method <b>predict</b> to produce a prediction. Lets import <b>pyplot</b> for plotting; we will also be using some functions from numpy.</p>"
   ]
  },
  {
   "cell_type": "code",
   "execution_count": 323,
   "metadata": {},
   "outputs": [],
   "source": [
    "import matplotlib.pyplot as plt\n",
    "import numpy as np\n",
    "\n",
    "%matplotlib inline "
   ]
  },
  {
   "cell_type": "code",
   "execution_count": 324,
   "metadata": {},
   "outputs": [],
   "source": [
    "new_input=np.arange(1, 100, 1).reshape(-1, 1)"
   ]
  },
  {
   "cell_type": "code",
   "execution_count": 325,
   "metadata": {},
   "outputs": [],
   "source": [
    "e = df[['age25_nodiploma']]\n",
    "n = df[['HARDSHIP_INDEX']]"
   ]
  },
  {
   "cell_type": "code",
   "execution_count": 326,
   "metadata": {},
   "outputs": [
    {
     "data": {
      "text/plain": [
       "LinearRegression(copy_X=True, fit_intercept=True, n_jobs=None,\n",
       "         normalize=False)"
      ]
     },
     "execution_count": 326,
     "metadata": {},
     "output_type": "execute_result"
    }
   ],
   "source": [
    "lm.fit(e , n)"
   ]
  },
  {
   "cell_type": "code",
   "execution_count": 331,
   "metadata": {},
   "outputs": [
    {
     "data": {
      "text/plain": [
       "array([[8.67957028],\n",
       "       [8.74724352],\n",
       "       [8.81491677]])"
      ]
     },
     "execution_count": 331,
     "metadata": {},
     "output_type": "execute_result"
    }
   ],
   "source": [
    "yhat = lm.predict(new_input)\n",
    "yhat[0:3]"
   ]
  },
  {
   "cell_type": "code",
   "execution_count": 333,
   "metadata": {},
   "outputs": [
    {
     "data": {
      "text/plain": [
       "[<matplotlib.lines.Line2D at 0x7f17c098def0>]"
      ]
     },
     "execution_count": 333,
     "metadata": {},
     "output_type": "execute_result"
    },
    {
     "data": {
      "image/png": "[encoded data removed]",
      "text/plain": [
       "<Figure size 432x288 with 1 Axes>"
      ]
     },
     "metadata": {
      "needs_background": "light"
     },
     "output_type": "display_data"
    }
   ],
   "source": [
    "plt.plot(new_input , yhat)"
   ]
  },
  {
   "cell_type": "markdown",
   "metadata": {},
   "source": [
    "<h3>Decision Making: Determining a Good Model Fit</h3>"
   ]
  },
  {
   "cell_type": "markdown",
   "metadata": {},
   "source": [
    "<p>Now that we have visualized the different models, and generated the R-squared and MSE values for the fits, how do we determine a good model fit?\n",
    "<ul>\n",
    "    <li><i>What is a good R-squared value?</i></li>\n",
    "</ul>\n",
    "</p>\n",
    "\n",
    "<p>When comparing models, <b>the model with the higher R-squared value is a better fit</b> for the data.\n",
    "<ul>\n",
    "    <li><i>What is a good MSE?</i></li>\n",
    "</ul>\n",
    "</p>\n",
    "\n",
    "<p>When comparing models, <b>the model with the smallest MSE value is a better fit</b> for the data.</p>\n",
    "\n",
    "\n",
    "<h4>Let's take a look at the values for the different models.</h4>\n",
    "<p>Simple Linear Regression: Using age25_nodiploma as a Predictor Variable of Hardship index.\n",
    "<ul>\n",
    "    <li>R-squared: 0.6383520063834172</li>\n",
    "    <li>MSE: 0.3568894673847858</li>\n",
    "</ul>\n",
    "</p>\n",
    "    \n",
    "<p>Multiple Linear Regression: Using PERCENT_AGED_UNDER_18_OR_OVER_64, age25_nodiploma  as Predictor Variables of Hardship index.\n",
    "<ul>\n",
    "    <li>R-squared: 0.8039394114927966</li>\n",
    "    <li>MSE: 0.19348084392158238</li>\n",
    "</ul>\n",
    "</p>\n",
    "    \n",
    "<p>Polynomial Fit: Using age25_nodiploma as a Predictor Variable of Hardship index.\n",
    "<ul>\n",
    "    <li>R-squared: 0.6383520063834172</li>\n",
    "    <li>MSE: 4.623321007579651</li>\n",
    "</ul>\n",
    "</p>"
   ]
  },
  {
   "cell_type": "markdown",
   "metadata": {},
   "source": [
    "<h3>Simple Linear Regression model (SLR) vs Multiple Linear Regression model (MLR)</h3>"
   ]
  },
  {
   "cell_type": "markdown",
   "metadata": {},
   "source": [
    "<p>Usually, the more variables you have, the better your model is at predicting, but this is not always true. Sometimes you may not have enough data, you may run into numerical problems, or many of the variables may not be useful and or even act as noise. As a result, you should always check the MSE and R^2.</p>\n",
    "\n",
    "<p>So to be able to compare the results of the MLR vs SLR models, we look at a combination of both the R-squared and MSE to make the best conclusion about the fit of the model.\n",
    "<ul>\n",
    "    <li><b>MSE</b>The MSE of SLR is  0.3568894673847858  while MLR has an MSE of 0.19348084392158238.  The MSE of MLR is smaller.</li>\n",
    "    <li><b>R-squared</b>: In this case, we can also see that there is a difference between the R-squared of the SLR and the R-squared of the MLR. The R-squared for the SLR (0.6383520063834172) and the R-squared for the MLR (0.8039394114927966).</li>\n",
    "</ul>\n",
    "</p>\n",
    "\n",
    "This R-squared in combination with the MSE show that MLR seems like the better model fit in this case, compared to SLR."
   ]
  },
  {
   "cell_type": "markdown",
   "metadata": {},
   "source": [
    "<h3>Simple Linear Model (SLR) vs Polynomial Fit</h3>"
   ]
  },
  {
   "cell_type": "markdown",
   "metadata": {},
   "source": [
    "<ul>\n",
    "    <li><b>MSE</b>: We can see that Polynomial Fit increased the MSE</li> \n",
    "    <li><b>R-squared</b>: The R-squared for the Polyfit is equal to  the R-squared for the SLR</li>\n",
    "</ul>\n",
    "<p>Since the Polynomial Fit resulted in an increased MSE and has no change on R-squared, we can conclude that this <b>was not</b> a better fit model than the simple linear regression for predicting hardship index with age25_nodiploma  as a predictor variable.</p>"
   ]
  },
  {
   "cell_type": "markdown",
   "metadata": {},
   "source": [
    "<h3>Multiple Linear Regression (MLR) vs Polynomial Fit</h3>"
   ]
  },
  {
   "cell_type": "markdown",
   "metadata": {},
   "source": [
    "<ul>\n",
    "    <li><b>MSE</b>: The MSE for the MLR is smaller than the MSE for the Polynomial Fit.</li>\n",
    "    <li><b>R-squared</b>: The R-squared for the MLR is also larger than for the Polynomial Fit.</li>\n",
    "</ul>"
   ]
  },
  {
   "cell_type": "markdown",
   "metadata": {},
   "source": [
    "<h2>Conclusion:</h2>"
   ]
  },
  {
   "cell_type": "markdown",
   "metadata": {},
   "source": [
    "<p>Comparing these three models, we conclude that <b>the MLR model is the best model</b> to be able to predict hardship index from our dataset.</p>"
   ]
  },
  {
   "cell_type": "markdown",
   "metadata": {},
   "source": [
    "# Created by Sayed Kamal"
   ]
  },
  {
   "cell_type": "code",
   "execution_count": null,
   "metadata": {},
   "outputs": [],
   "source": []
  }
 ],
 "metadata": {
  "kernelspec": {
   "display_name": "Python",
   "language": "python",
   "name": "conda-env-python-py"
  },
  "language_info": {
   "codemirror_mode": {
    "name": "ipython",
    "version": 3
   },
   "file_extension": ".py",
   "mimetype": "text/x-python",
   "name": "python",
   "nbconvert_exporter": "python",
   "pygments_lexer": "ipython3",
   "version": "3.6.7"
  }
 },
 "nbformat": 4,
 "nbformat_minor": 4
}
